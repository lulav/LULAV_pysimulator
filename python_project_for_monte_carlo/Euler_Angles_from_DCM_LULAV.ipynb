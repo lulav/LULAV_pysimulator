{
 "cells": [
  {
   "cell_type": "code",
   "execution_count": null,
   "metadata": {},
   "outputs": [
    {
     "ename": "",
     "evalue": "",
     "output_type": "error",
     "traceback": [
      "\u001b[1;31mFailed to start the Kernel. \n",
      "The 'python3810jvsc74a57bd0916dbcbb3f70747c44a77c7bcd40155683ae19c65e1c03b4aa3499c5328201f1' kernel is not available. Please pick another suitable kernel instead, or install that kernel. \n",
      "View Jupyter <a href='command:jupyter.viewOutput'>log</a> for further details."
     ]
    }
   ],
   "source": [
    "import math, numpy\n",
    "\n",
    "def Euler_Angles_from_DCM_LULAV(M):\n",
    "    pi = numpy.pi\n",
    "    if (abs(M[2][0]) != 1): # in the \"regular\" case \n",
    "        theta1 = -math.arcsin(M[2][0]) # M(3,1) is the only free variable, therefore, we start with it\n",
    "        theta2 = pi - theta1\n",
    "        cs1 = 1/math.cos(theta1)\n",
    "        cs2 = 1/math.cos(theta2) \n",
    "        phi1 = math.arctan2(M[2][1]*cs1,M[2][2]*cs1)\n",
    "        phi2 = math.arctan2(M[2][1]*cs2,M[2][2]*cs2)\n",
    "        psi1 = math.arctan2(M[1][0]*cs1,M[0][0]*cs1)\n",
    "        psi2 = math.arctan2(M[1][0]*cs2,M[0][0]*cs2)\n",
    "        Euler_angles1 = [phi1, theta1, psi1]\n",
    "        Euler_angles2 = [phi2, theta2, psi2]\n",
    "\n",
    "        return(Euler_angles1,Euler_angles2)\n",
    "    else: # in case of so called gimbal lock\n",
    "        phi1 = 0\n",
    "        if ((M[2][0]) == -1):\n",
    "            theta1 = pi/2\n",
    "            psi1 = phi1 + math.arctan2(-M[0][1],M[0][2])\n",
    "        else:\n",
    "            theta1 = -pi/2\n",
    "            psi1 = -phi1 + math.arctan2(-M[0][1],-M[0][2])\n",
    "        Euler_angles1 = [phi1, theta1, psi1]\n",
    "        Euler_angles2 = math.nan\n",
    "\n",
    "        return(Euler_angles1,Euler_angles2)\n",
    "    "
   ]
  },
  {
   "cell_type": "code",
   "execution_count": null,
   "metadata": {},
   "outputs": [
    {
     "ename": "",
     "evalue": "",
     "output_type": "error",
     "traceback": [
      "\u001b[1;31mFailed to start the Kernel. \n",
      "The 'python3810jvsc74a57bd0916dbcbb3f70747c44a77c7bcd40155683ae19c65e1c03b4aa3499c5328201f1' kernel is not available. Please pick another suitable kernel instead, or install that kernel. \n",
      "View Jupyter <a href='command:jupyter.viewOutput'>log</a> for further details."
     ]
    }
   ],
   "source": [
    "c = -654\n",
    "c = abs(c)"
   ]
  }
 ],
 "metadata": {
  "kernelspec": {
   "display_name": "Python 3.8.10 64-bit",
   "language": "python",
   "name": "python3"
  },
  "language_info": {
   "name": "python",
   "version": "3.8.10"
  },
  "orig_nbformat": 4,
  "vscode": {
   "interpreter": {
    "hash": "916dbcbb3f70747c44a77c7bcd40155683ae19c65e1c03b4aa3499c5328201f1"
   }
  }
 },
 "nbformat": 4,
 "nbformat_minor": 2
}
