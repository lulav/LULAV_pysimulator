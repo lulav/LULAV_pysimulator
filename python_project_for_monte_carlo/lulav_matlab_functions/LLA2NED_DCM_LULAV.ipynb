{
 "cells": [
  {
   "cell_type": "code",
   "execution_count": null,
   "metadata": {},
   "outputs": [],
   "source": [
    "import math\n",
    "import numpy as np\n",
    "def LLA2NED_DCM_LULAV(LAT,LONG):\n",
    "# the function recieves the latitude and longtitude angles in LLA frame and\n",
    "# outputs the DCM from LCLF to NED\n",
    "\n",
    "    DCM_switch_axes = [[0, 0, -1],\n",
    "                    [0, 1,  0],\n",
    "                    [1, 0,  0]] # switch axes from NED to LCLF   \n",
    "\n",
    "    csLAT = math.cos(LAT)\n",
    "    snLAT = math.sin(LAT)\n",
    "    csLONG = math.cos(LONG)\n",
    "    snLONG = math.sin(LONG)\n",
    "\n",
    "    R_pitch = [[csLAT,          0,          snLAT],\n",
    "                [0,              1,              0],\n",
    "                [-snLAT,          0,         csLAT]] # around the Y axis\n",
    "\n",
    "    R_yaw =   [[csLONG,     -snLONG,       0],\n",
    "            [snLONG,      csLONG,       0],\n",
    "            [0,           0,            1]]  # around the Z axis\n",
    "\n",
    "    DCM_NED_2_LCLF = DCM_switch_axes*R_pitch*R_yaw\n",
    "\n",
    "    DCM_LCLF_2_NED = np.transpose(DCM_NED_2_LCLF)\n",
    "    return(DCM_LCLF_2_NED)"
   ]
  }
 ],
 "metadata": {
  "kernelspec": {
   "display_name": "Python 3.8.10 64-bit",
   "language": "python",
   "name": "python3"
  },
  "language_info": {
   "name": "python",
   "version": "3.8.10"
  },
  "orig_nbformat": 4,
  "vscode": {
   "interpreter": {
    "hash": "916dbcbb3f70747c44a77c7bcd40155683ae19c65e1c03b4aa3499c5328201f1"
   }
  }
 },
 "nbformat": 4,
 "nbformat_minor": 2
}
