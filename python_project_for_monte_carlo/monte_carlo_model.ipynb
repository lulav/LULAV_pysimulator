{
 "cells": [
  {
   "cell_type": "code",
   "execution_count": 1,
   "metadata": {},
   "outputs": [
    {
     "data": {
      "text/plain": [
       "0"
      ]
     },
     "execution_count": 1,
     "metadata": {},
     "output_type": "execute_result"
    }
   ],
   "source": [
    "\n",
    "import PyQt5.QtWidgets as qtw\n",
    "import PyQt5.QtGui as qtg\n",
    "\n",
    "def get_value_from_text(value_from_text_box):\n",
    "    global MC_Rapper\n",
    "\n",
    "    MC_Rapper = int(value_from_text_box)\n",
    "    return\n",
    "\n",
    "class MainWindow(qtw.QWidget):\n",
    "    def __init__(self):\n",
    "        super().__init__()\n",
    "        \n",
    "        # add a title\n",
    "        self.setWindowTitle(\"Monte Carlo Model\")\n",
    "        self.setLayout(qtw.QVBoxLayout())\n",
    "\n",
    "        # create a label\n",
    "        number_of_runs_label = qtw.QLabel(\"Enter The Number Of Runs In The Monte Carlo Model\")\n",
    "        self.layout().addWidget(number_of_runs_label)\n",
    "\n",
    "        # create a text box\n",
    "        enter_number_of_runs = qtw.QLineEdit()\n",
    "        enter_number_of_runs.setObjectName(\"runs_field\")\n",
    "        \n",
    "        self.layout().addWidget(enter_number_of_runs)\n",
    "\n",
    "        #create a button \n",
    "        monte_carlo_button = qtw.QPushButton(\"O.K.\", clicked = lambda: pressed_monte_carlo_button())\n",
    "        self.layout().addWidget(monte_carlo_button)\n",
    "\n",
    "        self.show()\n",
    "\n",
    "        def pressed_monte_carlo_button():\n",
    "            get_value_from_text(enter_number_of_runs.text()) \n",
    "app = qtw.QApplication([])\n",
    "mw = MainWindow()\n",
    "\n",
    "# run the app\n",
    "app.exec_()\n",
    "\n",
    "\n",
    "\n"
   ]
  }
 ],
 "metadata": {
  "kernelspec": {
   "display_name": "Python 3.8.10 64-bit",
   "language": "python",
   "name": "python3"
  },
  "language_info": {
   "codemirror_mode": {
    "name": "ipython",
    "version": 3
   },
   "file_extension": ".py",
   "mimetype": "text/x-python",
   "name": "python",
   "nbconvert_exporter": "python",
   "pygments_lexer": "ipython3",
   "version": "3.8.10"
  },
  "orig_nbformat": 4,
  "vscode": {
   "interpreter": {
    "hash": "31f2aee4e71d21fbe5cf8b01ff0e069b9275f58929596ceb00d14d90e3e16cd6"
   }
  }
 },
 "nbformat": 4,
 "nbformat_minor": 2
}
