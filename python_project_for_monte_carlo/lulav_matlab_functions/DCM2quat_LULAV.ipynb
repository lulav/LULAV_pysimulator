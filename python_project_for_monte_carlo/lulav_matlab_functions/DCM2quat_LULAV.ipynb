{
 "cells": [
  {
   "cell_type": "code",
   "execution_count": 6,
   "metadata": {},
   "outputs": [],
   "source": [
    "import math\n",
    "\n",
    "def quat_sign(x):\n",
    "    s = 1\n",
    "    if x<-1e-9:\n",
    "        s =-1\n",
    "    return s \n",
    "\n",
    "\n",
    "def DCM2quat_LULAV(DCMs):\n",
    "    quat_array = []\n",
    "    for DCM in DCMs:\n",
    "        eta = 0.0025 # % eta is a threshhold parameter set to help with numerical accuracy,\n",
    "                    #for more on the subject read: \"Accurate Computation of Quaternions from Rotation Matrices\" \n",
    "                    # https://upcommons.upc.edu/bitstream/handle/2117/124384/2068-Accurate-Computation-of-Quaternions-from-Rotation-Matrices.pdf?sequence=1\n",
    "        \n",
    "        q = [0,0,0,0]\n",
    "\n",
    "        r11 = DCM[0][0]\n",
    "        r12 = DCM[0][1]\n",
    "        r13 = DCM[0][2]\n",
    "        r21 = DCM[1][0]\n",
    "        r22 = DCM[1][1]\n",
    "        r23 = DCM[1][2]\n",
    "        r31 = DCM[2][0]\n",
    "        r32 = DCM[2][1]\n",
    "        r33 = DCM[2][2]\n",
    "\n",
    "        # q0\n",
    "        if ((r11 + r22 + r33) > eta):\n",
    "            q[0]= 0.5*math.sqrt(1 + r11 + r22 + r33)\n",
    "        else:\n",
    "            num0 = (r32 - r23)^2 + (r13 - r31)^2 + (r21 - r12)^2 \n",
    "            denum0 = 3 - r11 - r22 - r33\n",
    "            q[0] = 0.5*math.sqrt(num0 / denum0)\n",
    "        \n",
    "        # q1\n",
    "        if ((r11 - r22 - r33) > eta):\n",
    "            q[1]= 0.5*math.sqrt(1 + r11 - r22 - r33)\n",
    "        else:\n",
    "            num1 = (r32 - r23)^2 + (r12 + r21)^2 + (r31 + r13)^2\n",
    "            denum1 = 3 - r11 + r22 + r33\n",
    "            q[1] = 0.5*math.sqrt(num1 / denum1)\n",
    "        q[1] = q[1]*quat_sign(r23-r32)\n",
    "        \n",
    "        # q2\n",
    "        if ((- r11 + r22 - r33) > eta):\n",
    "            q[2] = 0.5*math.sqrt(1 - r11 + r22 - r33)\n",
    "        else:\n",
    "            num2 = (r13 - r31)^2 + (r12 + r21)^2 + (r23 + r32)^2  \n",
    "            denum2 = 3 + r11 - r22 + r33\n",
    "            q[2] = 0.5*math.sqrt(num2 / denum2 )\n",
    "        q[2] = q[2]*quat_sign(r31-r13)\n",
    "\n",
    "        # q3\n",
    "        if ((- r11 - r22 + r33) > eta):\n",
    "            q[3]= 0.5*math.sqrt(1 - r11 - r22 + r33)\n",
    "        else:\n",
    "            num3 = (r12 - r21)^2 + (r31 + r13)^2 + (r32 + r23)^2 \n",
    "            denum3 = 3 + r11 + r22 - r33\n",
    "            q[3] = 0.5*math.sqrt(num3 / denum3)\n",
    "        q[3] = q[3]*quat_sign(r12-r21)\n",
    "\n",
    "        quat_array.append(q) \n",
    "\n",
    "    return quat_array\n"
   ]
  },
  {
   "cell_type": "code",
   "execution_count": null,
   "metadata": {},
   "outputs": [],
   "source": [
    "\n"
   ]
  }
 ],
 "metadata": {
  "interpreter": {
   "hash": "916dbcbb3f70747c44a77c7bcd40155683ae19c65e1c03b4aa3499c5328201f1"
  },
  "kernelspec": {
   "display_name": "Python 3.8.10 64-bit",
   "language": "python",
   "name": "python3"
  },
  "language_info": {
   "codemirror_mode": {
    "name": "ipython",
    "version": 3
   },
   "file_extension": ".py",
   "mimetype": "text/x-python",
   "name": "python",
   "nbconvert_exporter": "python",
   "pygments_lexer": "ipython3",
   "version": "3.8.10"
  },
  "orig_nbformat": 4
 },
 "nbformat": 4,
 "nbformat_minor": 2
}
