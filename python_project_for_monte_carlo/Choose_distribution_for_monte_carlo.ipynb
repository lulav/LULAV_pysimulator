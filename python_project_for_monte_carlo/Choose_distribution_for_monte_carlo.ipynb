{
 "cells": [
  {
   "cell_type": "code",
   "execution_count": null,
   "metadata": {},
   "outputs": [
    {
     "ename": "",
     "evalue": "",
     "output_type": "error",
     "traceback": [
      "\u001b[1;31mRunning cells with 'Python 3.10.6 64-bit' requires ipykernel package.\n",
      "Run the following command to install 'ipykernel' into the Python environment. \n",
      "Command: '/bin/python3.10 -m pip install ipykernel -U --user --force-reinstall'"
     ]
    }
   ],
   "source": [
    "import PyQt5.QtWidgets as qtw\n",
    "import PyQt5.QtGui as qtg\n",
    "\n",
    "def get_value_from_text(value_from_combo_box):\n",
    "    global X\n",
    "\n",
    "    MC_Rapper = int(value_from_text_box)\n",
    "    return\n",
    "\n",
    "class MainWindow(qtw.QWidget):\n",
    "    def __init__(self):\n",
    "        super().__init__()\n",
    "        \n",
    "        # add a title\n",
    "        self.setWindowTitle(\"Monte Carlo Model\")\n",
    "        self.setLayout(qtw.QVBoxLayout())\n",
    "\n",
    "        # create a label\n",
    "        variables_to_randomize = qtw.QLabel(\"Select What Distribution of the Random Variables\")\n",
    "        self.layout().addWidget(variables_to_randomize)\n",
    "\n",
    "        # create a combo box\n",
    "        distribution_of_variable = qtw.QComboBox(self)\n",
    "        # adding a choice\n",
    "        distribution_of_variable.addItem(\"Fixed\")\n",
    "        distribution_of_variable.addItem(\"Uniform\")\n",
    "        distribution_of_variable.addItem(\"Normal\")\n",
    "        \n",
    "        self.layout().addWidget(enter_number_of_runs)\n",
    "\n",
    "        #create a button \n",
    "        monte_carlo_button = qtw.QPushButton(\"O.K.\", clicked = lambda: pressed_monte_carlo_button())\n",
    "        self.layout().addWidget(monte_carlo_button)\n",
    "\n",
    "        self.show()\n",
    "\n",
    "        def pressed_monte_carlo_button():\n",
    "            get_value_from_text(enter_number_of_runs.text()) \n",
    "app = qtw.QApplication([])\n",
    "mw = MainWindow()\n",
    "\n",
    "# run the app\n",
    "app.exec_()"
   ]
  }
 ],
 "metadata": {
  "kernelspec": {
   "display_name": "Python 3.10.6 64-bit",
   "language": "python",
   "name": "python3"
  },
  "language_info": {
   "name": "python",
   "version": "3.10.6"
  },
  "orig_nbformat": 4,
  "vscode": {
   "interpreter": {
    "hash": "97cc609b13305c559618ec78a438abc56230b9381f827f22d070313b9a1f3777"
   }
  }
 },
 "nbformat": 4,
 "nbformat_minor": 2
}
