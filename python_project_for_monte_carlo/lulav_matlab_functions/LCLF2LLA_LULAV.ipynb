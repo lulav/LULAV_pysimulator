{
 "cells": [
  {
   "cell_type": "code",
   "execution_count": null,
   "metadata": {},
   "outputs": [],
   "source": [
    "import math,numpy\n",
    "\n",
    "def LCLF2LLA_LULAV(LCLF,R_Moon): # Boaz Gavriel\n",
    "#this function recieves a vector in LCLF and transforms it to LLA\n",
    "# it also recieves the radius of our beautiful Moon in [Km]\n",
    "#  if there's a problem - write it on a paper and wipe your ass with it\n",
    "\n",
    "    LLA = [0 ,0 ,0]\n",
    "    pi = numpy.pi\n",
    "    r = numpy.norm(LCLF)\n",
    "\n",
    "    if r > 0:\n",
    "\n",
    "        LLA[0] = math.arcsin(LCLF[2]/r)\n",
    "\n",
    "        LLA[1] = math.arctan2(LCLF[1],LCLF[0])\n",
    "        if (LLA[1] > pi ):\n",
    "            LLA[1] = LLA[1] - 2*pi \n",
    "        LLA[2] = r - R_Moon \n",
    "    return(LLA)"
   ]
  }
 ],
 "metadata": {
  "kernelspec": {
   "display_name": "Python 3.8.10 64-bit",
   "language": "python",
   "name": "python3"
  },
  "language_info": {
   "name": "python",
   "version": "3.8.10"
  },
  "orig_nbformat": 4,
  "vscode": {
   "interpreter": {
    "hash": "916dbcbb3f70747c44a77c7bcd40155683ae19c65e1c03b4aa3499c5328201f1"
   }
  }
 },
 "nbformat": 4,
 "nbformat_minor": 2
}
