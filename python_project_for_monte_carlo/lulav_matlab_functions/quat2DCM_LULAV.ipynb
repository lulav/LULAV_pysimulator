{
 "cells": [
  {
   "cell_type": "code",
   "execution_count": 18,
   "metadata": {},
   "outputs": [
    {
     "name": "stdout",
     "output_type": "stream",
     "text": [
      "[[-0.9999984985602449, -0.0010158074619595302, 0.0014039275109921526], [0.0011924725794823258, -0.9912243937750256, 0.1321846405392098], [0.0012573330517711096, 0.13218611621699594, 0.991224116833859]]\n"
     ]
    }
   ],
   "source": [
    "import numpy as np\n",
    "def quat2DCM_LULAV(q): # Boaz Gavriel\n",
    "# this function recieves a rotation quaternion in the form of array and gives back\n",
    "# its proper Direction Cosine Matrix\n",
    "#   if there's a problem - write it on a paper and wipe your ass with it\n",
    "\n",
    "    if (len(q) != 4): \n",
    "        print('not a quaternion - asshole!')\n",
    "        return\n",
    "    elif (np.linalg.norm(q) != 1):\n",
    "        q = q/np.linalg.norm(q) # if it's not a unit quaternion then it is needed to normelize it\n",
    "        DCM =  [[q[0]**2 + q[1]**2 - q[2]**2 - q[3]**2, 2*(q[1]*q[2] - q[0]*q[3]),  2*(q[0]*q[2] + q[1]*q[3])],\n",
    "                [2*(q[1]*q[2] + q[0]*q[3]), q[0]**2 - q[1]**2 + q[2]**2 - q[3]**2,  2*(q[2]*q[3] - q[0]*q[1])],\n",
    "                [2*(q[1]*q[3] - q[0]*q[2]), 2*(q[0]*q[1] + q[2]*q[3]),  q[0]**2 - q[1]**2 - q[2]**2 + q[3]**2]]\n",
    "    else:\n",
    "        DCM =  [[q[0]**2 + q[1]**2 - q[2]**2 - q[3]**2, 2*(q[1]*q[2] - q[0]*q[3]),  2*(q[0]*q[2] + q[1]*q[3])],\n",
    "                [2*(q[1]*q[2] + q[0]*q[3]), q[0]**2 - q[1]**2 + q[2]**2 - q[3]**2,  2*(q[2]*q[3] - q[0]*q[1])],\n",
    "                [2*(q[1]*q[3] - q[0]*q[2]), 2*(q[0]*q[1] + q[2]*q[3]),  q[0]**2 - q[1]**2 - q[2]**2 + q[3]**2]]\n",
    "    \n",
    "    return(DCM)\n"
   ]
  }
 ],
 "metadata": {
  "kernelspec": {
   "display_name": "Python 3.8.10 64-bit",
   "language": "python",
   "name": "python3"
  },
  "language_info": {
   "codemirror_mode": {
    "name": "ipython",
    "version": 3
   },
   "file_extension": ".py",
   "mimetype": "text/x-python",
   "name": "python",
   "nbconvert_exporter": "python",
   "pygments_lexer": "ipython3",
   "version": "3.8.10"
  },
  "orig_nbformat": 4,
  "vscode": {
   "interpreter": {
    "hash": "916dbcbb3f70747c44a77c7bcd40155683ae19c65e1c03b4aa3499c5328201f1"
   }
  }
 },
 "nbformat": 4,
 "nbformat_minor": 2
}
