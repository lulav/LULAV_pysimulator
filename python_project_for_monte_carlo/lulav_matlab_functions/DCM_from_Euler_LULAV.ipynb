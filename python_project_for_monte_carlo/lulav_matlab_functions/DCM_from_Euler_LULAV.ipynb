{
 "cells": [
  {
   "cell_type": "code",
   "execution_count": null,
   "metadata": {},
   "outputs": [
    {
     "ename": "",
     "evalue": "",
     "output_type": "error",
     "traceback": [
      "\u001b[1;31mFailed to start the Kernel. \n",
      "The 'python3810jvsc74a57bd0916dbcbb3f70747c44a77c7bcd40155683ae19c65e1c03b4aa3499c5328201f1' kernel is not available. Please pick another suitable kernel instead, or install that kernel. \n",
      "View Jupyter <a href='command:jupyter.viewOutput'>log</a> for further details."
     ]
    }
   ],
   "source": [
    "import math, numpy\n",
    "\n",
    "def DCM_from_Euler_LULAV(phi,theta,psy,rot_config): # Boaz Gavriel\n",
    "\n",
    "    rot_config = rot_config.lower()\n",
    "    match rot_config: \n",
    "        case \"zyx\":\n",
    "            R_roll = [[1 , 0, 0],\n",
    "                  [0, math.cos(psy), -math.sin(psy)],\n",
    "                  [0, math.sin(psy),  math.cos(psy)]] # around the X axis\n",
    "\n",
    "            R_pitch = [[math.cos(theta), 0 ,math.sin(theta)],\n",
    "                      [0,  1,    0],\n",
    "                      [-math.sin(theta),  0, math.cos(theta)]] # around the Y axis   \n",
    "\n",
    "            R_yaw = [[math.cos(phi), -math.sin(phi),  0],\n",
    "                     [math.sin(phi),  math.cos(phi),  0],\n",
    "                     [0,   0,  1]] # around the Z axis\n",
    "        \n",
    "            Rotation_Matrix = numpy.transpose(R_yaw*R_pitch*R_roll) #round((R_yaw*R_pitch*R_roll), 10); # how many numbers after the decimal dot\n",
    "        case \"xyz\":\n",
    "            R_roll = [[1 , 0, 0],\n",
    "                  [0, math.cos(phi), -math.sin(phi)],\n",
    "                  [0, math.sin(phi),  math.cos(phi)]] # around the X axis\n",
    "            R_roll = numpy.transpose(R_roll)\n",
    "\n",
    "            R_pitch = [[math.cos(theta), 0 ,math.sin(theta)],\n",
    "                      [0,  1,    0],\n",
    "                      [-math.sin(theta),  0, math.cos(theta)]] # around the Y axis   \n",
    "            R_pitch = numpy.transpose(R_pitch)\n",
    "\n",
    "            R_yaw =     [[math.cos(psy), -math.sin(psy),  0],\n",
    "                         [math.sin(psy),  math.cos(psy),  0],\n",
    "                         [0,   0,  1]] # around the Z axis \n",
    "            R_yaw = numpy.transpose(R_yaw)\n",
    "\n",
    "            Rotation_Matrix = (R_yaw*R_pitch*R_roll) #round((R_yaw*R_pitch*R_roll), 10); # how many numbers after the decimal dot\n",
    "        case _:\n",
    "\n",
    "            Rotation_Matrix = math.nan\n",
    "            print('choose a correct rotation type!')\n",
    "    return(Rotation_Matrix)\n",
    "\n",
    "\n",
    "pi = math.pi\n",
    "mat = [[35,685,32],[321,23,676,],[8768,4,242]]\n",
    "mat = DCM_from_Euler_LULAV(pi/2,pi/3,pi/4,'xyz')"
   ]
  },
  {
   "cell_type": "code",
   "execution_count": null,
   "metadata": {},
   "outputs": [],
   "source": [
    "import math, numpy\n",
    "\n",
    "x = 'DHFFHDSHdfg'\n",
    "print(x.lower())\n",
    "x = x.lower()\n",
    "pi = math.pi\n",
    "mat = [[35,685,32],[321,23,676,],[8768,4,242]]\n",
    "mat = DCM_from_Euler_LULAV(pi/2,pi/3,pi/4,'xyz')"
   ]
  }
 ],
 "metadata": {
  "interpreter": {
   "hash": "916dbcbb3f70747c44a77c7bcd40155683ae19c65e1c03b4aa3499c5328201f1"
  },
  "kernelspec": {
   "display_name": "Python 3.8.10 64-bit",
   "language": "python",
   "name": "python3"
  },
  "language_info": {
   "codemirror_mode": {
    "name": "ipython",
    "version": 3
   },
   "file_extension": ".py",
   "mimetype": "text/x-python",
   "name": "python",
   "nbconvert_exporter": "python",
   "pygments_lexer": "ipython3",
   "version": "3.8.10"
  },
  "orig_nbformat": 4
 },
 "nbformat": 4,
 "nbformat_minor": 2
}
