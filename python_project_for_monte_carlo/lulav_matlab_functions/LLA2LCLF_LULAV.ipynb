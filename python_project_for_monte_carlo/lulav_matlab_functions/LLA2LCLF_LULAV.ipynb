{
 "cells": [
  {
   "cell_type": "code",
   "execution_count": null,
   "metadata": {},
   "outputs": [],
   "source": [
    "import math, numpy\n",
    "\n",
    "def LLA2LCLF_LULAV(LLA, R_Moon): # Boaz Gavriel\n",
    "#this function recieves oordinates in LLA and transforms them to LCLF\n",
    "# it also recieves the radius of our beautiful Moon in [Km] \n",
    "#  if there's a problem - write it on a paper and wipe your ass with it\n",
    "    pi = numpy.pi\n",
    "    LCLF = [0,0,0]\n",
    "    if (R_Moon < 2000): # check for units in Km or m\n",
    "        R_Moon = R_Moon*10^3\n",
    "    if (len(LLA) != 3) or (LLA(1) > abs(2*pi)) or (LLA(2) > abs(pi/2)):\n",
    "        print('not in LLA coordinates - asshole!')\n",
    "    else:\n",
    "        LCLF[0] = (R_Moon + LLA[2])*math.cos(LLA[1])*math.cos(LLA[0])\n",
    "        LCLF[1] = (R_Moon + LLA[2])*math.cos(LLA[1])*math.sin(LLA[0])\n",
    "        LCLF[2] = (R_Moon + LLA[2])*math.sin(LLA[1])\n",
    "    return(LCLF)"
   ]
  }
 ],
 "metadata": {
  "kernelspec": {
   "display_name": "Python 3.8.10 64-bit",
   "language": "python",
   "name": "python3"
  },
  "language_info": {
   "name": "python",
   "version": "3.8.10"
  },
  "orig_nbformat": 4,
  "vscode": {
   "interpreter": {
    "hash": "916dbcbb3f70747c44a77c7bcd40155683ae19c65e1c03b4aa3499c5328201f1"
   }
  }
 },
 "nbformat": 4,
 "nbformat_minor": 2
}
